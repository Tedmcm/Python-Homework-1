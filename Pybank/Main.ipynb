{
 "cells": [
  {
   "cell_type": "code",
   "execution_count": 49,
   "metadata": {},
   "outputs": [],
   "source": [
    "#import CSV File\n",
    "\n",
    "import csv\n",
    "\n",
    "\n",
    "#Path\n",
    "from pathlib import Path\n",
    "infile = Path('../budget_data.csv')\n",
    "\n",
    "\n",
    "#Initialize CSV file\n",
    "csv_data = []\n",
    "\n",
    "\n",
    "#open Path and Cut/Get rid of header\n",
    "with open(infile, 'r') as file:\n",
    "    reader = csv.reader(file, delimiter = ',')\n",
    "    next(reader)\n",
    "    for row in reader:\n",
    "        csv_data.append(row)\n",
    "\n",
    "\n",
    "\n",
    "#initialize months and values, put in list      \n",
    "months = []\n",
    "values = []\n",
    "\n",
    "\n",
    "\n",
    "# use for loop to add append/add monthly and value total\n",
    "for sub_list in csv_data:\n",
    "    months.append(sub_list[0])\n",
    "    values.append(int(sub_list[1]))\n",
    "\n",
    "\n",
    "\n",
    "\n",
    "# calculate total months using len     \n",
    "total_months = len(months)\n",
    "\n",
    "\n",
    "\n",
    "total = sum(values)\n",
    "\n",
    "\n",
    "\n",
    "# for loop for average change, interate through values to calculate change month over month = change, and then\n",
    "# the average change / total months - 1\n",
    "average_change = 0\n",
    "\n",
    "for x in range(len(values) -1):\n",
    "    final = values[x + 1]\n",
    "    initial = values[x]\n",
    "    sub = final - initial \n",
    "    average_change += sub\n",
    "\n",
    "average_change = average_change / (total_months - 1)\n",
    "\n",
    "\n",
    "\n",
    "#\n",
    "maximum = 0\n",
    "maximum_month = months[0]\n",
    "\n",
    "\n",
    "\n",
    "for x in range(len(values) -1):\n",
    "    final = values[x + 1]\n",
    "    initial = values[x]\n",
    "    sub = final - initial \n",
    "    if sub >= maximum:\n",
    "        maximum = sub\n",
    "        maximum_month = months[x + 1]\n",
    "        \n",
    "minimum = values[0]\n",
    "minimum_month = months[0]\n",
    "\n",
    "\n",
    "for x in range(len(values) -1):\n",
    "    final = values[x + 1]\n",
    "    initial = values[x]\n",
    "    sub = final - initial \n",
    "    if sub <= minimum:\n",
    "        minimum = sub\n",
    "        minimum_month = months[x + 1]\n",
    "        "
   ]
  },
  {
   "cell_type": "code",
   "execution_count": 50,
   "metadata": {},
   "outputs": [
    {
     "name": "stdout",
     "output_type": "stream",
     "text": [
      "Total Months: 86\n",
      "Total: $38382578\n",
      "Average_change: -2315.12\n",
      "Greatest Increase in Profits: Feb-2012, $(1926159)\n",
      "Greatest Decrease in Profits: Sep-2013, $(-2196167)\n"
     ]
    }
   ],
   "source": [
    "print(f\"Total Months: {total_months}\")\n",
    "print(f\"Total: ${total}\")\n",
    "print(f\"Average_change: {round(average_change,2)}\")\n",
    "print(f\"Greatest Increase in Profits: {maximum_month}, $({maximum})\")\n",
    "print(f\"Greatest Decrease in Profits: {minimum_month}, $({minimum})\")"
   ]
  },
  {
   "cell_type": "code",
   "execution_count": null,
   "metadata": {},
   "outputs": [],
   "source": [
    "\n",
    "\n"
   ]
  }
 ],
 "metadata": {
  "kernelspec": {
   "display_name": "Python 3",
   "language": "python",
   "name": "python3"
  },
  "language_info": {
   "codemirror_mode": {
    "name": "ipython",
    "version": 3
   },
   "file_extension": ".py",
   "mimetype": "text/x-python",
   "name": "python",
   "nbconvert_exporter": "python",
   "pygments_lexer": "ipython3",
   "version": "3.7.6"
  }
 },
 "nbformat": 4,
 "nbformat_minor": 4
}
