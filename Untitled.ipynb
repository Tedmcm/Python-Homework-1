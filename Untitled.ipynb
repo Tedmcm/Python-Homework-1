{
 "cells": [
  {
   "cell_type": "code",
   "execution_count": 5,
   "metadata": {},
   "outputs": [
    {
     "name": "stdout",
     "output_type": "stream",
     "text": [
      "<function calculate_compound_growth_rate at 0x7ff93e95f830>\n"
     ]
    }
   ],
   "source": [
    "calculate_compound_growth_rate = ()\n",
    "\n",
    "def calculate_compound_growth_rate(beginning_balane, ending_balance, years):\n",
    "        return (end_balance / beginning_balance) ** (1 / (years - 1)) - 1\n",
    "print(calculate_compound_growth_rate)\n"
   ]
  },
  {
   "cell_type": "code",
   "execution_count": null,
   "metadata": {},
   "outputs": [],
   "source": []
  },
  {
   "cell_type": "code",
   "execution_count": null,
   "metadata": {},
   "outputs": [],
   "source": []
  }
 ],
 "metadata": {
  "kernelspec": {
   "display_name": "Python 3",
   "language": "python",
   "name": "python3"
  },
  "language_info": {
   "codemirror_mode": {
    "name": "ipython",
    "version": 3
   },
   "file_extension": ".py",
   "mimetype": "text/x-python",
   "name": "python",
   "nbconvert_exporter": "python",
   "pygments_lexer": "ipython3",
   "version": "3.7.6"
  }
 },
 "nbformat": 4,
 "nbformat_minor": 4
}
