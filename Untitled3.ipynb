{
 "cells": [
  {
   "cell_type": "code",
   "execution_count": 1,
   "metadata": {},
   "outputs": [
    {
     "name": "stdout",
     "output_type": "stream",
     "text": [
      "---------Summary Statistics----------\n",
      "Number of Total Days: 20\n",
      "Number of Profitable Days: 13\n",
      "Number of Unprofitable Days: 7\n",
      "Percentage of Profitable Days: 65.0%\n",
      "Percentage of Unprofitable Days: 35.0%\n",
      "-------------------------------------\n",
      "Profitable Days: [352, 252, 354, 56, 123, 254, 325, 47, 321, 123, 133, 613, 232]\n",
      "Unprofitable Days: [-224, -544, -650, -43, -123, -151, -311]\n",
      "-------------------------------------\n",
      "Total Profits/Losses: 1139\n",
      "Daily Average: 56.95\n",
      "Worst Loss: -650\n",
      "Best Gain: 613\n"
     ]
    }
   ],
   "source": [
    "# Initialize the metric variables\n",
    "count = 0\n",
    "total = 0\n",
    "average = 0\n",
    "minimum = 0\n",
    "maximum = 0\n",
    "\n",
    "# Initialize lists to hold profitable and unprofitable day profits/losses\n",
    "profitable_days = []\n",
    "unprofitable_days = []\n",
    "\n",
    "# List of trading profits/losses\n",
    "trading_pnl = [ -224,  352, 252, 354, -544,\n",
    "                -650,   56, 123, -43,  254,\n",
    "                 325, -123,  47, 321,  123,\n",
    "                 133, -151, 613, 232, -311 ]\n",
    "\n",
    "# Iterate over each element of the list\n",
    "for day_pnl in trading_pnl:\n",
    "\n",
    "    # Cumulatively sum up the total profits/losses and count of trading days\n",
    "    total += day_pnl\n",
    "    count += 1\n",
    "\n",
    "    # Logic to determine minimum and maximum values\n",
    "    if minimum == 0:\n",
    "        minimum = day_pnl\n",
    "    elif day_pnl < minimum:\n",
    "        minimum = day_pnl\n",
    "    elif day_pnl > maximum:\n",
    "        maximum = day_pnl\n",
    "\n",
    "    # Logic to determine profitable vs. unprofitable days\n",
    "    if day_pnl > 0:\n",
    "        profitable_days.append(day_pnl)\n",
    "    elif day_pnl <= 0:\n",
    "        unprofitable_days.append(day_pnl)\n",
    "\n",
    "# Calculate the average\n",
    "average = round(total / count, 2)\n",
    "\n",
    "# Count metrics\n",
    "profitable_count = len(profitable_days)\n",
    "unprofitable_count = len(unprofitable_days)\n",
    "\n",
    "# Percentage metrics\n",
    "percent_profitable = profitable_count / count * 100\n",
    "percent_unprofitable = unprofitable_count / count * 100\n",
    "\n",
    "# Print out the summary statistics\n",
    "print(\"---------Summary Statistics----------\")\n",
    "print(f\"Number of Total Days: {count}\")\n",
    "print(f\"Number of Profitable Days: {profitable_count}\")\n",
    "print(f\"Number of Unprofitable Days: {unprofitable_count}\")\n",
    "print(f\"Percentage of Profitable Days: {percent_profitable}%\")\n",
    "print(f\"Percentage of Unprofitable Days: {percent_unprofitable}%\")\n",
    "print(\"-------------------------------------\")\n",
    "print(f\"Profitable Days: {profitable_days}\")\n",
    "print(f\"Unprofitable Days: {unprofitable_days}\")\n",
    "print(\"-------------------------------------\")\n",
    "print(f\"Total Profits/Losses: {total}\")\n",
    "print(f\"Daily Average: {average}\")\n",
    "print(f\"Worst Loss: {minimum}\")\n",
    "print(f\"Best Gain: {maximum}\")\n",
    "\n"
   ]
  },
  {
   "cell_type": "code",
   "execution_count": null,
   "metadata": {},
   "outputs": [],
   "source": []
  }
 ],
 "metadata": {
  "kernelspec": {
   "display_name": "Python 3",
   "language": "python",
   "name": "python3"
  },
  "language_info": {
   "codemirror_mode": {
    "name": "ipython",
    "version": 3
   },
   "file_extension": ".py",
   "mimetype": "text/x-python",
   "name": "python",
   "nbconvert_exporter": "python",
   "pygments_lexer": "ipython3",
   "version": "3.7.6"
  }
 },
 "nbformat": 4,
 "nbformat_minor": 4
}
